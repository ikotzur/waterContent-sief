{
 "cells": [
  {
   "cell_type": "markdown",
   "metadata": {},
   "source": [
    "# Loading, cleaning and describing moisture content field data, and associated HFE weather station data"
   ]
  },
  {
   "cell_type": "code",
   "execution_count": null,
   "metadata": {},
   "outputs": [],
   "source": [
    "import pandas as pd\n",
    "from datetime import datetime\n",
    "import hievpy\n",
    "import os\n",
    "import matplotlib.pyplot as plt\n",
    "import math\n",
    "import numpy as np"
   ]
  },
  {
   "cell_type": "code",
   "execution_count": 3,
   "metadata": {},
   "outputs": [
    {
     "data": {
      "text/plain": [
       "'/Users/ivanscomp/cloudstor/phd/gadi_workbooks'"
      ]
     },
     "execution_count": 3,
     "metadata": {},
     "output_type": "execute_result"
    }
   ],
   "source": [
    "pwd"
   ]
  },
  {
   "cell_type": "code",
   "execution_count": 4,
   "metadata": {},
   "outputs": [],
   "source": [
    "# from IPython.display import display\n",
    "# pd.options.display.max_rows = None # to view whole dataframe"
   ]
  },
  {
   "cell_type": "markdown",
   "metadata": {},
   "source": [
    "## Import field datasheet"
   ]
  },
  {
   "cell_type": "code",
   "execution_count": 5,
   "metadata": {},
   "outputs": [],
   "source": [
    "df = pd.read_csv('../diurnal_hfe_study/mc_sief_datasheet - Sheet1.csv',parse_dates=[['date','time'],['nominal_date','nominal_time']],dayfirst=True)\n",
    "df['date_time'] = pd.to_datetime(df['date_time'], format='%d/%m/%Y %H:%M',errors='coerce')\n",
    "df.set_index('date_time',inplace=True)\n",
    "df.rename(columns={'fresh_weight+bag (mg)':'fresh_weightnbag','chamber_pressure (mPa)':'chamber_pressure','nominal_date_nominal_time':'nominal_time'},inplace=True)\n",
    "df['surf_moist'] = np.where(df['surf_moist']=='T',True,False)"
   ]
  },
  {
   "cell_type": "code",
   "execution_count": 6,
   "metadata": {},
   "outputs": [
    {
     "data": {
      "text/html": [
       "<div>\n",
       "<style scoped>\n",
       "    .dataframe tbody tr th:only-of-type {\n",
       "        vertical-align: middle;\n",
       "    }\n",
       "\n",
       "    .dataframe tbody tr th {\n",
       "        vertical-align: top;\n",
       "    }\n",
       "\n",
       "    .dataframe thead th {\n",
       "        text-align: right;\n",
       "    }\n",
       "</style>\n",
       "<table border=\"1\" class=\"dataframe\">\n",
       "  <thead>\n",
       "    <tr style=\"text-align: right;\">\n",
       "      <th></th>\n",
       "      <th>nominal_time</th>\n",
       "      <th>sample_id</th>\n",
       "      <th>tree_id</th>\n",
       "      <th>ontogeny</th>\n",
       "      <th>surf_moist</th>\n",
       "      <th>fresh_weightnbag</th>\n",
       "      <th>time_fresh</th>\n",
       "      <th>falcon_weight</th>\n",
       "      <th>chamber_pressure</th>\n",
       "      <th>scan_id</th>\n",
       "      <th>...</th>\n",
       "      <th>moistc_oven</th>\n",
       "      <th>moistc_titrat</th>\n",
       "      <th>wind</th>\n",
       "      <th>temp</th>\n",
       "      <th>humidity</th>\n",
       "      <th>vpd</th>\n",
       "      <th>radiation</th>\n",
       "      <th>soil_moisture</th>\n",
       "      <th>rainfall</th>\n",
       "      <th>comments</th>\n",
       "    </tr>\n",
       "    <tr>\n",
       "      <th>date_time</th>\n",
       "      <th></th>\n",
       "      <th></th>\n",
       "      <th></th>\n",
       "      <th></th>\n",
       "      <th></th>\n",
       "      <th></th>\n",
       "      <th></th>\n",
       "      <th></th>\n",
       "      <th></th>\n",
       "      <th></th>\n",
       "      <th></th>\n",
       "      <th></th>\n",
       "      <th></th>\n",
       "      <th></th>\n",
       "      <th></th>\n",
       "      <th></th>\n",
       "      <th></th>\n",
       "      <th></th>\n",
       "      <th></th>\n",
       "      <th></th>\n",
       "      <th></th>\n",
       "    </tr>\n",
       "  </thead>\n",
       "  <tbody>\n",
       "    <tr>\n",
       "      <th>2020-11-03 05:20:00</th>\n",
       "      <td>2020-11-03 05:00:00</td>\n",
       "      <td>0</td>\n",
       "      <td>1-1</td>\n",
       "      <td>young</td>\n",
       "      <td>True</td>\n",
       "      <td>11168.0</td>\n",
       "      <td>6.45</td>\n",
       "      <td>40636</td>\n",
       "      <td>0.124</td>\n",
       "      <td>0.1-1.y.jpeg</td>\n",
       "      <td>...</td>\n",
       "      <td>165.2646465</td>\n",
       "      <td>NaN</td>\n",
       "      <td>NaN</td>\n",
       "      <td>NaN</td>\n",
       "      <td>NaN</td>\n",
       "      <td>NaN</td>\n",
       "      <td>NaN</td>\n",
       "      <td>NaN</td>\n",
       "      <td>NaN</td>\n",
       "      <td>DMSO frezing after adding leaf sample, cold mo...</td>\n",
       "    </tr>\n",
       "    <tr>\n",
       "      <th>2020-11-03 05:20:00</th>\n",
       "      <td>2020-11-03 05:00:00</td>\n",
       "      <td>1</td>\n",
       "      <td>1-1</td>\n",
       "      <td>mature</td>\n",
       "      <td>True</td>\n",
       "      <td>11535.0</td>\n",
       "      <td>6.45</td>\n",
       "      <td>40630</td>\n",
       "      <td>0.042</td>\n",
       "      <td>1.1-1.m.jpeg</td>\n",
       "      <td>...</td>\n",
       "      <td>386.5005299</td>\n",
       "      <td>NaN</td>\n",
       "      <td>NaN</td>\n",
       "      <td>NaN</td>\n",
       "      <td>NaN</td>\n",
       "      <td>NaN</td>\n",
       "      <td>NaN</td>\n",
       "      <td>NaN</td>\n",
       "      <td>NaN</td>\n",
       "      <td>DMSO frezing after adding leaf sample, cold mo...</td>\n",
       "    </tr>\n",
       "    <tr>\n",
       "      <th>2020-11-03 05:35:00</th>\n",
       "      <td>2020-11-03 05:00:00</td>\n",
       "      <td>2</td>\n",
       "      <td>1-2</td>\n",
       "      <td>young</td>\n",
       "      <td>True</td>\n",
       "      <td>10197.0</td>\n",
       "      <td>6.45</td>\n",
       "      <td>41302</td>\n",
       "      <td>0.051</td>\n",
       "      <td>2.1-2.y.jpeg</td>\n",
       "      <td>...</td>\n",
       "      <td>242.6769963</td>\n",
       "      <td>NaN</td>\n",
       "      <td>NaN</td>\n",
       "      <td>NaN</td>\n",
       "      <td>NaN</td>\n",
       "      <td>NaN</td>\n",
       "      <td>NaN</td>\n",
       "      <td>NaN</td>\n",
       "      <td>NaN</td>\n",
       "      <td>DMSO frezing after adding leaf sample, cold mo...</td>\n",
       "    </tr>\n",
       "    <tr>\n",
       "      <th>2020-11-03 05:35:00</th>\n",
       "      <td>2020-11-03 05:00:00</td>\n",
       "      <td>3</td>\n",
       "      <td>1-2</td>\n",
       "      <td>mature</td>\n",
       "      <td>True</td>\n",
       "      <td>9295.0</td>\n",
       "      <td>6.45</td>\n",
       "      <td>41299</td>\n",
       "      <td>0.056</td>\n",
       "      <td>3.1-2.m.jpeg</td>\n",
       "      <td>...</td>\n",
       "      <td>69.03170638</td>\n",
       "      <td>NaN</td>\n",
       "      <td>NaN</td>\n",
       "      <td>NaN</td>\n",
       "      <td>NaN</td>\n",
       "      <td>NaN</td>\n",
       "      <td>NaN</td>\n",
       "      <td>NaN</td>\n",
       "      <td>NaN</td>\n",
       "      <td>DMSO frezing after adding leaf sample, cold mo...</td>\n",
       "    </tr>\n",
       "    <tr>\n",
       "      <th>2020-11-03 05:45:00</th>\n",
       "      <td>2020-11-03 05:00:00</td>\n",
       "      <td>4</td>\n",
       "      <td>1-3</td>\n",
       "      <td>young</td>\n",
       "      <td>True</td>\n",
       "      <td>11231.0</td>\n",
       "      <td>6.45</td>\n",
       "      <td>41029</td>\n",
       "      <td>0.139</td>\n",
       "      <td>4.1-3.y.jpeg</td>\n",
       "      <td>...</td>\n",
       "      <td>169.3113349</td>\n",
       "      <td>NaN</td>\n",
       "      <td>NaN</td>\n",
       "      <td>NaN</td>\n",
       "      <td>NaN</td>\n",
       "      <td>NaN</td>\n",
       "      <td>NaN</td>\n",
       "      <td>NaN</td>\n",
       "      <td>NaN</td>\n",
       "      <td>DMSO frezing after adding leaf sample, cold mo...</td>\n",
       "    </tr>\n",
       "    <tr>\n",
       "      <th>...</th>\n",
       "      <td>...</td>\n",
       "      <td>...</td>\n",
       "      <td>...</td>\n",
       "      <td>...</td>\n",
       "      <td>...</td>\n",
       "      <td>...</td>\n",
       "      <td>...</td>\n",
       "      <td>...</td>\n",
       "      <td>...</td>\n",
       "      <td>...</td>\n",
       "      <td>...</td>\n",
       "      <td>...</td>\n",
       "      <td>...</td>\n",
       "      <td>...</td>\n",
       "      <td>...</td>\n",
       "      <td>...</td>\n",
       "      <td>...</td>\n",
       "      <td>...</td>\n",
       "      <td>...</td>\n",
       "      <td>...</td>\n",
       "      <td>...</td>\n",
       "    </tr>\n",
       "    <tr>\n",
       "      <th>2020-11-19 01:05:00</th>\n",
       "      <td>2020-11-19 01:00:00</td>\n",
       "      <td>91</td>\n",
       "      <td>1-2</td>\n",
       "      <td>mature</td>\n",
       "      <td>False</td>\n",
       "      <td>11028.0</td>\n",
       "      <td>01:44</td>\n",
       "      <td>41226.4</td>\n",
       "      <td>0.275</td>\n",
       "      <td>NaN</td>\n",
       "      <td>...</td>\n",
       "      <td>148.2781522</td>\n",
       "      <td>NaN</td>\n",
       "      <td>NaN</td>\n",
       "      <td>NaN</td>\n",
       "      <td>NaN</td>\n",
       "      <td>NaN</td>\n",
       "      <td>NaN</td>\n",
       "      <td>NaN</td>\n",
       "      <td>NaN</td>\n",
       "      <td>NaN</td>\n",
       "    </tr>\n",
       "    <tr>\n",
       "      <th>2020-11-19 01:11:00</th>\n",
       "      <td>2020-11-19 01:00:00</td>\n",
       "      <td>92</td>\n",
       "      <td>1-4</td>\n",
       "      <td>young</td>\n",
       "      <td>False</td>\n",
       "      <td>17497.2</td>\n",
       "      <td>01:46</td>\n",
       "      <td>41277.6</td>\n",
       "      <td>0.282</td>\n",
       "      <td>NaN</td>\n",
       "      <td>...</td>\n",
       "      <td>171.5552737</td>\n",
       "      <td>NaN</td>\n",
       "      <td>NaN</td>\n",
       "      <td>NaN</td>\n",
       "      <td>NaN</td>\n",
       "      <td>NaN</td>\n",
       "      <td>NaN</td>\n",
       "      <td>NaN</td>\n",
       "      <td>NaN</td>\n",
       "      <td>NaN</td>\n",
       "    </tr>\n",
       "    <tr>\n",
       "      <th>2020-11-19 01:11:00</th>\n",
       "      <td>2020-11-19 01:00:00</td>\n",
       "      <td>93</td>\n",
       "      <td>1-4</td>\n",
       "      <td>mature</td>\n",
       "      <td>False</td>\n",
       "      <td>11721.5</td>\n",
       "      <td>01:48</td>\n",
       "      <td>41277.1</td>\n",
       "      <td>0.517</td>\n",
       "      <td>NaN</td>\n",
       "      <td>...</td>\n",
       "      <td>148.8199176</td>\n",
       "      <td>NaN</td>\n",
       "      <td>NaN</td>\n",
       "      <td>NaN</td>\n",
       "      <td>NaN</td>\n",
       "      <td>NaN</td>\n",
       "      <td>NaN</td>\n",
       "      <td>NaN</td>\n",
       "      <td>NaN</td>\n",
       "      <td>NaN</td>\n",
       "    </tr>\n",
       "    <tr>\n",
       "      <th>2020-11-19 01:18:00</th>\n",
       "      <td>2020-11-19 01:00:00</td>\n",
       "      <td>94</td>\n",
       "      <td>2-42</td>\n",
       "      <td>young</td>\n",
       "      <td>False</td>\n",
       "      <td>16422.6</td>\n",
       "      <td>01:50</td>\n",
       "      <td>40160.7</td>\n",
       "      <td>0.318</td>\n",
       "      <td>NaN</td>\n",
       "      <td>...</td>\n",
       "      <td>193.5259399</td>\n",
       "      <td>NaN</td>\n",
       "      <td>NaN</td>\n",
       "      <td>NaN</td>\n",
       "      <td>NaN</td>\n",
       "      <td>NaN</td>\n",
       "      <td>NaN</td>\n",
       "      <td>NaN</td>\n",
       "      <td>NaN</td>\n",
       "      <td>NaN</td>\n",
       "    </tr>\n",
       "    <tr>\n",
       "      <th>2020-11-19 01:18:00</th>\n",
       "      <td>2020-11-19 01:00:00</td>\n",
       "      <td>95</td>\n",
       "      <td>2-42</td>\n",
       "      <td>mature</td>\n",
       "      <td>False</td>\n",
       "      <td>13126.0</td>\n",
       "      <td>01:54</td>\n",
       "      <td>40932.7</td>\n",
       "      <td>0.158</td>\n",
       "      <td>NaN</td>\n",
       "      <td>...</td>\n",
       "      <td>#VALUE!</td>\n",
       "      <td>NaN</td>\n",
       "      <td>NaN</td>\n",
       "      <td>NaN</td>\n",
       "      <td>NaN</td>\n",
       "      <td>NaN</td>\n",
       "      <td>NaN</td>\n",
       "      <td>NaN</td>\n",
       "      <td>NaN</td>\n",
       "      <td>NaN</td>\n",
       "    </tr>\n",
       "  </tbody>\n",
       "</table>\n",
       "<p>96 rows × 32 columns</p>\n",
       "</div>"
      ],
      "text/plain": [
       "                           nominal_time  sample_id tree_id ontogeny  \\\n",
       "date_time                                                             \n",
       "2020-11-03 05:20:00 2020-11-03 05:00:00          0     1-1    young   \n",
       "2020-11-03 05:20:00 2020-11-03 05:00:00          1     1-1   mature   \n",
       "2020-11-03 05:35:00 2020-11-03 05:00:00          2     1-2    young   \n",
       "2020-11-03 05:35:00 2020-11-03 05:00:00          3     1-2   mature   \n",
       "2020-11-03 05:45:00 2020-11-03 05:00:00          4     1-3    young   \n",
       "...                                 ...        ...     ...      ...   \n",
       "2020-11-19 01:05:00 2020-11-19 01:00:00         91     1-2   mature   \n",
       "2020-11-19 01:11:00 2020-11-19 01:00:00         92     1-4    young   \n",
       "2020-11-19 01:11:00 2020-11-19 01:00:00         93     1-4   mature   \n",
       "2020-11-19 01:18:00 2020-11-19 01:00:00         94    2-42    young   \n",
       "2020-11-19 01:18:00 2020-11-19 01:00:00         95    2-42   mature   \n",
       "\n",
       "                     surf_moist  fresh_weightnbag time_fresh falcon_weight  \\\n",
       "date_time                                                                    \n",
       "2020-11-03 05:20:00        True           11168.0       6.45         40636   \n",
       "2020-11-03 05:20:00        True           11535.0       6.45         40630   \n",
       "2020-11-03 05:35:00        True           10197.0       6.45         41302   \n",
       "2020-11-03 05:35:00        True            9295.0       6.45         41299   \n",
       "2020-11-03 05:45:00        True           11231.0       6.45         41029   \n",
       "...                         ...               ...        ...           ...   \n",
       "2020-11-19 01:05:00       False           11028.0      01:44       41226.4   \n",
       "2020-11-19 01:11:00       False           17497.2      01:46       41277.6   \n",
       "2020-11-19 01:11:00       False           11721.5      01:48       41277.1   \n",
       "2020-11-19 01:18:00       False           16422.6      01:50       40160.7   \n",
       "2020-11-19 01:18:00       False           13126.0      01:54       40932.7   \n",
       "\n",
       "                     chamber_pressure       scan_id  ...  moistc_oven  \\\n",
       "date_time                                            ...                \n",
       "2020-11-03 05:20:00             0.124  0.1-1.y.jpeg  ...  165.2646465   \n",
       "2020-11-03 05:20:00             0.042  1.1-1.m.jpeg  ...  386.5005299   \n",
       "2020-11-03 05:35:00             0.051  2.1-2.y.jpeg  ...  242.6769963   \n",
       "2020-11-03 05:35:00             0.056  3.1-2.m.jpeg  ...  69.03170638   \n",
       "2020-11-03 05:45:00             0.139  4.1-3.y.jpeg  ...  169.3113349   \n",
       "...                               ...           ...  ...          ...   \n",
       "2020-11-19 01:05:00             0.275           NaN  ...  148.2781522   \n",
       "2020-11-19 01:11:00             0.282           NaN  ...  171.5552737   \n",
       "2020-11-19 01:11:00             0.517           NaN  ...  148.8199176   \n",
       "2020-11-19 01:18:00             0.318           NaN  ...  193.5259399   \n",
       "2020-11-19 01:18:00             0.158           NaN  ...      #VALUE!   \n",
       "\n",
       "                     moistc_titrat  wind  temp  humidity vpd radiation  \\\n",
       "date_time                                                                \n",
       "2020-11-03 05:20:00            NaN   NaN   NaN       NaN NaN       NaN   \n",
       "2020-11-03 05:20:00            NaN   NaN   NaN       NaN NaN       NaN   \n",
       "2020-11-03 05:35:00            NaN   NaN   NaN       NaN NaN       NaN   \n",
       "2020-11-03 05:35:00            NaN   NaN   NaN       NaN NaN       NaN   \n",
       "2020-11-03 05:45:00            NaN   NaN   NaN       NaN NaN       NaN   \n",
       "...                            ...   ...   ...       ...  ..       ...   \n",
       "2020-11-19 01:05:00            NaN   NaN   NaN       NaN NaN       NaN   \n",
       "2020-11-19 01:11:00            NaN   NaN   NaN       NaN NaN       NaN   \n",
       "2020-11-19 01:11:00            NaN   NaN   NaN       NaN NaN       NaN   \n",
       "2020-11-19 01:18:00            NaN   NaN   NaN       NaN NaN       NaN   \n",
       "2020-11-19 01:18:00            NaN   NaN   NaN       NaN NaN       NaN   \n",
       "\n",
       "                    soil_moisture rainfall  \\\n",
       "date_time                                    \n",
       "2020-11-03 05:20:00           NaN      NaN   \n",
       "2020-11-03 05:20:00           NaN      NaN   \n",
       "2020-11-03 05:35:00           NaN      NaN   \n",
       "2020-11-03 05:35:00           NaN      NaN   \n",
       "2020-11-03 05:45:00           NaN      NaN   \n",
       "...                           ...      ...   \n",
       "2020-11-19 01:05:00           NaN      NaN   \n",
       "2020-11-19 01:11:00           NaN      NaN   \n",
       "2020-11-19 01:11:00           NaN      NaN   \n",
       "2020-11-19 01:18:00           NaN      NaN   \n",
       "2020-11-19 01:18:00           NaN      NaN   \n",
       "\n",
       "                                                              comments  \n",
       "date_time                                                               \n",
       "2020-11-03 05:20:00  DMSO frezing after adding leaf sample, cold mo...  \n",
       "2020-11-03 05:20:00  DMSO frezing after adding leaf sample, cold mo...  \n",
       "2020-11-03 05:35:00  DMSO frezing after adding leaf sample, cold mo...  \n",
       "2020-11-03 05:35:00  DMSO frezing after adding leaf sample, cold mo...  \n",
       "2020-11-03 05:45:00  DMSO frezing after adding leaf sample, cold mo...  \n",
       "...                                                                ...  \n",
       "2020-11-19 01:05:00                                                NaN  \n",
       "2020-11-19 01:11:00                                                NaN  \n",
       "2020-11-19 01:11:00                                                NaN  \n",
       "2020-11-19 01:18:00                                                NaN  \n",
       "2020-11-19 01:18:00                                                NaN  \n",
       "\n",
       "[96 rows x 32 columns]"
      ]
     },
     "execution_count": 6,
     "metadata": {},
     "output_type": "execute_result"
    }
   ],
   "source": [
    "df"
   ]
  },
  {
   "cell_type": "markdown",
   "metadata": {},
   "source": [
    "## Import environmental data from HFE weather station using the HIEV database api"
   ]
  },
  {
   "cell_type": "code",
   "execution_count": 7,
   "metadata": {},
   "outputs": [],
   "source": [
    "api_token = os.environ['HIEV_API_KEY']\n",
    "base_url = 'https://hiev.westernsydney.edu.au/'"
   ]
  },
  {
   "cell_type": "code",
   "execution_count": 8,
   "metadata": {},
   "outputs": [
    {
     "name": "stderr",
     "output_type": "stream",
     "text": [
      "  0%|          | 0/1 [00:00<?, ?it/s]"
     ]
    },
    {
     "name": "stdout",
     "output_type": "stream",
     "text": [
      "Loading 1 files:\n"
     ]
    },
    {
     "name": "stderr",
     "output_type": "stream",
     "text": [
      "100%|██████████| 1/1 [00:00<00:00,  4.32it/s]\n",
      "  0%|          | 0/1 [00:00<?, ?it/s]"
     ]
    },
    {
     "name": "stdout",
     "output_type": "stream",
     "text": [
      "Loading 1 files:\n"
     ]
    },
    {
     "name": "stderr",
     "output_type": "stream",
     "text": [
      "100%|██████████| 1/1 [00:00<00:00,  4.27it/s]\n"
     ]
    }
   ],
   "source": [
    "enviro = hievpy.search_load_toa5df(api_token,base_url,search_params={'filename':'ROS_WS_Table15min_20201130.dat'})\n",
    "enviro_oct = hievpy.search_load_toa5df(api_token,base_url,search_params={'filename':'ROS_WS_Table15min_20201031.dat'})"
   ]
  },
  {
   "cell_type": "code",
   "execution_count": 9,
   "metadata": {},
   "outputs": [
    {
     "data": {
      "text/plain": [
       "(2400, 13)"
      ]
     },
     "execution_count": 9,
     "metadata": {},
     "output_type": "execute_result"
    }
   ],
   "source": [
    "enviro.shape"
   ]
  },
  {
   "cell_type": "code",
   "execution_count": 10,
   "metadata": {},
   "outputs": [
    {
     "data": {
      "text/plain": [
       "(2976, 13)"
      ]
     },
     "execution_count": 10,
     "metadata": {},
     "output_type": "execute_result"
    }
   ],
   "source": [
    "enviro_oct.shape"
   ]
  },
  {
   "cell_type": "markdown",
   "metadata": {},
   "source": [
    "### Combine months of data relevant to field campaign"
   ]
  },
  {
   "cell_type": "code",
   "execution_count": 11,
   "metadata": {},
   "outputs": [],
   "source": [
    "enviro = (pd.concat([enviro,enviro_oct],axis=0)).sort_index()"
   ]
  },
  {
   "cell_type": "code",
   "execution_count": 12,
   "metadata": {},
   "outputs": [
    {
     "data": {
      "text/plain": [
       "(5376, 13)"
      ]
     },
     "execution_count": 12,
     "metadata": {},
     "output_type": "execute_result"
    }
   ],
   "source": [
    "enviro.shape"
   ]
  },
  {
   "cell_type": "markdown",
   "metadata": {},
   "source": [
    "### Add rainfall and soil moisture volume into field dataframe"
   ]
  },
  {
   "cell_type": "code",
   "execution_count": 13,
   "metadata": {},
   "outputs": [
    {
     "data": {
      "image/png": "[encoded data removed]",
      "text/plain": [
       "<Figure size 432x288 with 1 Axes>"
      ]
     },
     "metadata": {
      "needs_background": "light"
     },
     "output_type": "display_data"
    }
   ],
   "source": [
    "# plot rainfall of time of sampling in 2020\n",
    "enviro['Rain_mm_Tot'].plot()\n",
    "plt.ylabel('Rainfall total (mm)')\n",
    "plt.show()"
   ]
  },
  {
   "cell_type": "code",
   "execution_count": 14,
   "metadata": {},
   "outputs": [
    {
     "data": {
      "text/plain": [
       "148.8"
      ]
     },
     "execution_count": 14,
     "metadata": {},
     "output_type": "execute_result"
    }
   ],
   "source": [
    "# rainfall total of data retrieved from weather station\n",
    "enviro['Rain_mm_Tot'].sum()"
   ]
  },
  {
   "cell_type": "code",
   "execution_count": 15,
   "metadata": {},
   "outputs": [],
   "source": [
    "# select rainfall data prior to time of sampling using 24hr, 2 days, 3 days and 21 day periods"
   ]
  },
  {
   "cell_type": "code",
   "execution_count": 16,
   "metadata": {},
   "outputs": [],
   "source": [
    "# select rain from environmental data for differing length periods before each sample time, add to new columns\n",
    "df['rain_24h'] = [enviro.loc[dt-pd.Timedelta(hours=24):dt]['Rain_mm_Tot'].sum() for dt in df.index]\n",
    "df['rain_2d'] = [enviro.loc[dt-pd.Timedelta(hours=48):dt]['Rain_mm_Tot'].sum() for dt in df.index]\n",
    "df['rain_3d'] = [enviro.loc[dt-pd.Timedelta(hours=72):dt]['Rain_mm_Tot'].sum() for dt in df.index]\n",
    "df['rain_3w'] = [enviro.loc[dt-pd.Timedelta(days=21):dt]['Rain_mm_Tot'].sum() for dt in df.index]"
   ]
  },
  {
   "cell_type": "code",
   "execution_count": 17,
   "metadata": {},
   "outputs": [
    {
     "data": {
      "text/plain": [
       "<matplotlib.axes._subplots.AxesSubplot at 0x11b8c7690>"
      ]
     },
     "execution_count": 17,
     "metadata": {},
     "output_type": "execute_result"
    },
    {
     "data": {
      "image/png": "[encoded data removed]",
      "text/plain": [
       "<Figure size 432x288 with 1 Axes>"
      ]
     },
     "metadata": {
      "needs_background": "light"
     },
     "output_type": "display_data"
    }
   ],
   "source": [
    "# timeseries by rainfall total preceding each sampling point\n",
    "df[['rain_24h','rain_2d','rain_3d','rain_3w']].plot()"
   ]
  },
  {
   "cell_type": "markdown",
   "metadata": {},
   "source": [
    "#### Soil moisture volume"
   ]
  },
  {
   "cell_type": "code",
   "execution_count": 18,
   "metadata": {},
   "outputs": [
    {
     "data": {
      "text/plain": [
       "<matplotlib.axes._subplots.AxesSubplot at 0x11cb0b110>"
      ]
     },
     "execution_count": 18,
     "metadata": {},
     "output_type": "execute_result"
    },
    {
     "data": {
      "image/png": "[encoded data removed]",
      "text/plain": [
       "<Figure size 432x288 with 1 Axes>"
      ]
     },
     "metadata": {
      "needs_background": "light"
     },
     "output_type": "display_data"
    }
   ],
   "source": [
    "# plot timeseries of all retrieved data\n",
    "enviro.VW_Avg.plot()"
   ]
  },
  {
   "cell_type": "code",
   "execution_count": 19,
   "metadata": {},
   "outputs": [],
   "source": [
    "# add soil water volume column for each sample from environmental dataframe\n",
    "df['soil_moisture'] = [enviro.iloc[enviro.index.get_loc(dt,'nearest')]['VW_Avg'] for dt in df.index] # use pd.Index.get_loc"
   ]
  },
  {
   "cell_type": "code",
   "execution_count": 20,
   "metadata": {},
   "outputs": [
    {
     "data": {
      "text/plain": [
       "<matplotlib.axes._subplots.AxesSubplot at 0x11cdc0d90>"
      ]
     },
     "execution_count": 20,
     "metadata": {},
     "output_type": "execute_result"
    },
    {
     "data": {
      "image/png": "[encoded data removed]",
      "text/plain": [
       "<Figure size 432x288 with 1 Axes>"
      ]
     },
     "metadata": {
      "needs_background": "light"
     },
     "output_type": "display_data"
    }
   ],
   "source": [
    "# plot soil moisture volume timeseries of the sampling period\n",
    "df['soil_moisture'].plot() # units are m^3 m^-3 (volume water per volume soil), ie fraction or percent of water in soil"
   ]
  },
  {
   "cell_type": "code",
   "execution_count": 21,
   "metadata": {},
   "outputs": [],
   "source": [
    "# import dataframe of air temp, humidity, windspeed and merge into df\n",
    "# 'ROS_WS_Table05min_20201129.dat'"
   ]
  },
  {
   "cell_type": "code",
   "execution_count": 22,
   "metadata": {},
   "outputs": [
    {
     "name": "stderr",
     "output_type": "stream",
     "text": [
      "  0%|          | 0/1 [00:00<?, ?it/s]"
     ]
    },
    {
     "name": "stdout",
     "output_type": "stream",
     "text": [
      "Loading 1 files:\n"
     ]
    },
    {
     "name": "stderr",
     "output_type": "stream",
     "text": [
      "100%|██████████| 1/1 [00:00<00:00,  3.78it/s]\n",
      "  0%|          | 0/1 [00:00<?, ?it/s]"
     ]
    },
    {
     "name": "stdout",
     "output_type": "stream",
     "text": [
      "Loading 1 files:\n"
     ]
    },
    {
     "name": "stderr",
     "output_type": "stream",
     "text": [
      "100%|██████████| 1/1 [00:00<00:00,  3.92it/s]\n"
     ]
    }
   ],
   "source": [
    "enviro = hievpy.search_load_toa5df(api_token,base_url,search_params={'filename':'ROS_WS_Table05min_20201130.dat'})\n",
    "enviro_oct = hievpy.search_load_toa5df(api_token,base_url,search_params={'filename':'ROS_WS_Table05min_20201031.dat'})\n",
    "enviro = (pd.concat([enviro,enviro_oct],axis=0)).sort_index()"
   ]
  },
  {
   "cell_type": "code",
   "execution_count": 23,
   "metadata": {},
   "outputs": [
    {
     "data": {
      "text/plain": [
       "(16126, 14)"
      ]
     },
     "execution_count": 23,
     "metadata": {},
     "output_type": "execute_result"
    }
   ],
   "source": [
    "enviro.shape"
   ]
  },
  {
   "cell_type": "code",
   "execution_count": 24,
   "metadata": {},
   "outputs": [
    {
     "data": {
      "text/plain": [
       "Index(['RECORD', 'PPFD_Avg', 'AirTC_Avg', 'RH', 'WS_ms_Avg', 'WS_ms_Max',\n",
       "       'WindDir', 'NetSW_Avg', 'NetLW_Avg', 'NetRad_Avg', 'LWmV_Avg',\n",
       "       'LWMDry_Tot', 'LWMCon_Tot', 'LWMWet_Tot'],\n",
       "      dtype='object')"
      ]
     },
     "execution_count": 24,
     "metadata": {},
     "output_type": "execute_result"
    }
   ],
   "source": [
    "enviro.columns"
   ]
  },
  {
   "cell_type": "code",
   "execution_count": 25,
   "metadata": {},
   "outputs": [
    {
     "data": {
      "text/plain": [
       "Index(['nominal_time', 'sample_id', 'tree_id', 'ontogeny', 'surf_moist',\n",
       "       'fresh_weightnbag', 'time_fresh', 'falcon_weight', 'chamber_pressure',\n",
       "       'scan_id', 'total_leafarea', 'ziplock_weight', 'fresh_weight',\n",
       "       'paperbag_weight', 'preoven_weight', 'oven_weight', 'dry_weight', 'lma',\n",
       "       'sla', 'falcon_weight_empty', 'dmso_weight', 'titra_sample_weight',\n",
       "       'moistc_oven', 'moistc_titrat', 'wind', 'temp', 'humidity', 'vpd',\n",
       "       'radiation', 'soil_moisture', 'rainfall', 'comments', 'rain_24h',\n",
       "       'rain_2d', 'rain_3d', 'rain_3w'],\n",
       "      dtype='object')"
      ]
     },
     "execution_count": 25,
     "metadata": {},
     "output_type": "execute_result"
    }
   ],
   "source": [
    "df.columns"
   ]
  },
  {
   "cell_type": "code",
   "execution_count": 26,
   "metadata": {},
   "outputs": [],
   "source": [
    "df['wind'] = [enviro.iloc[enviro.index.get_loc(dt,'nearest')]['WS_ms_Avg'] for dt in df.index] # units = m s-1"
   ]
  },
  {
   "cell_type": "code",
   "execution_count": 27,
   "metadata": {},
   "outputs": [],
   "source": [
    "df['temp'] = [enviro.iloc[enviro.index.get_loc(dt,'nearest')]['AirTC_Avg'] for dt in df.index] # units = dec C"
   ]
  },
  {
   "cell_type": "code",
   "execution_count": 28,
   "metadata": {},
   "outputs": [],
   "source": [
    "df['humidity'] = [enviro.iloc[enviro.index.get_loc(dt,'nearest')]['RH'] for dt in df.index] # relative humidity unit = % of saturation vapour density\n",
    "\n",
    "df['vpd'] = ((610.78 * (np.exp(df['temp'] / (df['temp'] + 238.3) * 17.2694)) * df['humidity']) / 100) / 1000 # units = kPa"
   ]
  },
  {
   "cell_type": "code",
   "execution_count": 29,
   "metadata": {},
   "outputs": [],
   "source": [
    "df['radiation'] = [enviro.iloc[enviro.index.get_loc(dt,'nearest')]['NetRad_Avg'] for dt in df.index] # W m-2"
   ]
  },
  {
   "cell_type": "code",
   "execution_count": 30,
   "metadata": {},
   "outputs": [],
   "source": [
    "import seaborn as sns"
   ]
  },
  {
   "cell_type": "code",
   "execution_count": 31,
   "metadata": {},
   "outputs": [
    {
     "data": {
      "text/plain": [
       "<matplotlib.axes._subplots.AxesSubplot at 0x1a1fc7af10>"
      ]
     },
     "execution_count": 31,
     "metadata": {},
     "output_type": "execute_result"
    },
    {
     "data": {
      "image/png": "[encoded data removed]",
      "text/plain": [
       "<Figure size 432x288 with 1 Axes>"
      ]
     },
     "metadata": {
      "needs_background": "light"
     },
     "output_type": "display_data"
    }
   ],
   "source": [
    "df[['radiation']].plot(marker='.',linestyle='None') # plot of radiation data that matches observation times, includes no data from sensor (~09:00)"
   ]
  },
  {
   "cell_type": "code",
   "execution_count": 32,
   "metadata": {},
   "outputs": [
    {
     "data": {
      "text/plain": [
       "<matplotlib.axes._subplots.AxesSubplot at 0x1a1fcd09d0>"
      ]
     },
     "execution_count": 32,
     "metadata": {},
     "output_type": "execute_result"
    },
    {
     "data": {
      "image/png": "[encoded data removed]",
      "text/plain": [
       "<Figure size 432x288 with 1 Axes>"
      ]
     },
     "metadata": {
      "needs_background": "light"
     },
     "output_type": "display_data"
    }
   ],
   "source": [
    "enviro[['NetRad_Avg']].loc['2020-11-03'].plot() # radiation data from weather station showing gaps in data collection during first field campaign"
   ]
  },
  {
   "cell_type": "code",
   "execution_count": 33,
   "metadata": {},
   "outputs": [
    {
     "data": {
      "text/plain": [
       "<matplotlib.axes._subplots.AxesSubplot at 0x1a1fd5eb50>"
      ]
     },
     "execution_count": 33,
     "metadata": {},
     "output_type": "execute_result"
    },
    {
     "data": {
      "image/png": "[encoded data removed]",
      "text/plain": [
       "<Figure size 432x288 with 1 Axes>"
      ]
     },
     "metadata": {
      "needs_background": "light"
     },
     "output_type": "display_data"
    }
   ],
   "source": [
    "df[['vpd']].plot(marker='.',linestyle='None')"
   ]
  },
  {
   "cell_type": "code",
   "execution_count": 34,
   "metadata": {},
   "outputs": [
    {
     "data": {
      "text/plain": [
       "<matplotlib.axes._subplots.AxesSubplot at 0x1a1fddb990>"
      ]
     },
     "execution_count": 34,
     "metadata": {},
     "output_type": "execute_result"
    },
    {
     "data": {
      "image/png": "[encoded data removed]",
      "text/plain": [
       "<Figure size 432x288 with 1 Axes>"
      ]
     },
     "metadata": {
      "needs_background": "light"
     },
     "output_type": "display_data"
    }
   ],
   "source": [
    "df[['humidity']].plot(marker='.',linestyle='None')"
   ]
  },
  {
   "cell_type": "code",
   "execution_count": 35,
   "metadata": {},
   "outputs": [
    {
     "data": {
      "text/plain": [
       "<matplotlib.axes._subplots.AxesSubplot at 0x1a1fed56d0>"
      ]
     },
     "execution_count": 35,
     "metadata": {},
     "output_type": "execute_result"
    },
    {
     "data": {
      "image/png": "[encoded data removed]",
      "text/plain": [
       "<Figure size 432x288 with 1 Axes>"
      ]
     },
     "metadata": {
      "needs_background": "light"
     },
     "output_type": "display_data"
    }
   ],
   "source": [
    "df[['temp']].plot(marker='.',linestyle='None')"
   ]
  },
  {
   "cell_type": "code",
   "execution_count": 36,
   "metadata": {},
   "outputs": [
    {
     "data": {
      "text/plain": [
       "<matplotlib.axes._subplots.AxesSubplot at 0x1a1fdea050>"
      ]
     },
     "execution_count": 36,
     "metadata": {},
     "output_type": "execute_result"
    },
    {
     "data": {
      "image/png": "[encoded data removed]",
      "text/plain": [
       "<Figure size 432x288 with 1 Axes>"
      ]
     },
     "metadata": {
      "needs_background": "light"
     },
     "output_type": "display_data"
    }
   ],
   "source": [
    "df[['wind']].plot(marker='.',linestyle='None')"
   ]
  },
  {
   "cell_type": "markdown",
   "metadata": {},
   "source": [
    "### Historic soil moisture"
   ]
  },
  {
   "cell_type": "code",
   "execution_count": 105,
   "metadata": {},
   "outputs": [
    {
     "name": "stderr",
     "output_type": "stream",
     "text": [
      "  3%|▎         | 1/35 [00:00<00:05,  6.50it/s]"
     ]
    },
    {
     "name": "stdout",
     "output_type": "stream",
     "text": [
      "Downloading 35 files:\n"
     ]
    },
    {
     "name": "stderr",
     "output_type": "stream",
     "text": [
      "100%|██████████| 35/35 [00:05<00:00,  6.43it/s]\n"
     ]
    }
   ],
   "source": [
    "soil = hievpy.search_load_toa5df(api_token,base_url,search_params=\n",
    "                                 {\"from_date\":\"2018-01-01\",\"to_date\":\"2021-01-01\",'experiment_id': 6,'facility_id': 6,\n",
    "                                 'variables':'VW_Avg'},\n",
    "                                 biggish_data=True)"
   ]
  },
  {
   "cell_type": "code",
   "execution_count": 116,
   "metadata": {},
   "outputs": [
    {
     "name": "stdout",
     "output_type": "stream",
     "text": [
      "Minimum soil moisture during completed sampling: 0.102\n"
     ]
    }
   ],
   "source": [
    "print('Minimum soil moisture during completed sampling:',df.soil_moisture.min())"
   ]
  },
  {
   "cell_type": "code",
   "execution_count": 115,
   "metadata": {},
   "outputs": [
    {
     "data": {
      "text/plain": [
       "<matplotlib.axes._subplots.AxesSubplot at 0x1a28699b50>"
      ]
     },
     "execution_count": 115,
     "metadata": {},
     "output_type": "execute_result"
    },
    {
     "data": {
      "image/png": "[encoded data removed]",
      "text/plain": [
       "<Figure size 1008x648 with 1 Axes>"
      ]
     },
     "metadata": {
      "needs_background": "light"
     },
     "output_type": "display_data"
    }
   ],
   "source": [
    "soil[['VW_Avg']].plot(figsize=(14,9)) # check this plot for deciding next sampling time; lower than minimum in completed sampling"
   ]
  },
  {
   "cell_type": "markdown",
   "metadata": {},
   "source": [
    "## Inspect leaf moisture content (oven method) data"
   ]
  },
  {
   "cell_type": "code",
   "execution_count": 37,
   "metadata": {},
   "outputs": [],
   "source": [
    "# plot observed moisture content by nominal time - first sampling period only"
   ]
  },
  {
   "cell_type": "code",
   "execution_count": 38,
   "metadata": {},
   "outputs": [],
   "source": [
    "df['moistc_oven'] = pd.to_numeric(df.moistc_oven,errors='coerce')"
   ]
  },
  {
   "cell_type": "code",
   "execution_count": 39,
   "metadata": {},
   "outputs": [
    {
     "data": {
      "text/plain": [
       "<matplotlib.axes._subplots.AxesSubplot at 0x11bb7e9d0>"
      ]
     },
     "execution_count": 39,
     "metadata": {},
     "output_type": "execute_result"
    },
    {
     "data": {
      "image/png": "[encoded data removed]",
      "text/plain": [
       "<Figure size 432x288 with 1 Axes>"
      ]
     },
     "metadata": {
      "needs_background": "light"
     },
     "output_type": "display_data"
    }
   ],
   "source": [
    "df.moistc_oven.hist(bins=70)"
   ]
  },
  {
   "cell_type": "code",
   "execution_count": 40,
   "metadata": {},
   "outputs": [
    {
     "data": {
      "text/plain": [
       "count     95.000000\n",
       "mean     177.377420\n",
       "std       62.204431\n",
       "min       69.031706\n",
       "25%      146.417668\n",
       "50%      169.311335\n",
       "75%      192.127167\n",
       "max      534.395678\n",
       "Name: moistc_oven, dtype: float64"
      ]
     },
     "execution_count": 40,
     "metadata": {},
     "output_type": "execute_result"
    }
   ],
   "source": [
    "# describe all moisture content data\n",
    "df['moistc_oven'].describe()"
   ]
  },
  {
   "cell_type": "code",
   "execution_count": 41,
   "metadata": {},
   "outputs": [
    {
     "name": "stdout",
     "output_type": "stream",
     "text": [
      "standard error of the mean 6.382039999618444\n"
     ]
    }
   ],
   "source": [
    "# standard error of the mean all moisture content data\n",
    "print('standard error of the mean',df['moistc_oven'].sem())"
   ]
  },
  {
   "cell_type": "code",
   "execution_count": 42,
   "metadata": {},
   "outputs": [
    {
     "data": {
      "image/png": "[encoded data removed]",
      "text/plain": [
       "<Figure size 432x288 with 1 Axes>"
      ]
     },
     "metadata": {
      "needs_background": "light"
     },
     "output_type": "display_data"
    }
   ],
   "source": [
    "# daily timeseries of moisture content\n",
    "plt.plot(df['nominal_time'].dt.hour,df['moistc_oven'],'go')\n",
    "plt.ylabel('Moisture content (% DW)')\n",
    "plt.xlabel('Hour of day')\n",
    "plt.show()"
   ]
  },
  {
   "cell_type": "code",
   "execution_count": 43,
   "metadata": {},
   "outputs": [
    {
     "data": {
      "image/png": "[encoded data removed]",
      "text/plain": [
       "<Figure size 432x288 with 1 Axes>"
      ]
     },
     "metadata": {
      "needs_background": "light"
     },
     "output_type": "display_data"
    }
   ],
   "source": [
    "# daily timeseries of moisture content\n",
    "plt.plot(df[df.moistc_oven < 350]['nominal_time'].dt.hour,df[df.moistc_oven < 350]['moistc_oven'],'go')\n",
    "plt.ylabel('Moisture content (% DW)')\n",
    "plt.xlabel('Hour of day')\n",
    "plt.show()"
   ]
  },
  {
   "cell_type": "code",
   "execution_count": 44,
   "metadata": {},
   "outputs": [
    {
     "data": {
      "text/plain": [
       "count     92.000000\n",
       "mean     168.585020\n",
       "std       37.281811\n",
       "min       69.031706\n",
       "25%      145.732593\n",
       "50%      168.487580\n",
       "75%      188.057938\n",
       "max      316.868214\n",
       "Name: moistc_oven, dtype: float64"
      ]
     },
     "execution_count": 44,
     "metadata": {},
     "output_type": "execute_result"
    }
   ],
   "source": [
    "# describe moisture content data excluding values =>300\n",
    "df[df.moistc_oven < 350]['moistc_oven'].describe()"
   ]
  },
  {
   "cell_type": "code",
   "execution_count": 45,
   "metadata": {},
   "outputs": [
    {
     "name": "stdout",
     "output_type": "stream",
     "text": [
      "standard error of the mean 3.886897518057574\n"
     ]
    }
   ],
   "source": [
    "# standard error of the mean moisture content (<350%) data\n",
    "print('standard error of the mean',df[df.moistc_oven<350]['moistc_oven'].sem())"
   ]
  },
  {
   "cell_type": "code",
   "execution_count": 46,
   "metadata": {},
   "outputs": [
    {
     "ename": "AttributeError",
     "evalue": "'DataFrame' object has no attribute 'nominal_hr'",
     "output_type": "error",
     "traceback": [
      "\u001b[0;31m---------------------------------------------------------------------------\u001b[0m",
      "\u001b[0;31mAttributeError\u001b[0m                            Traceback (most recent call last)",
      "\u001b[0;32m<ipython-input-46-61bef823648f>\u001b[0m in \u001b[0;36m<module>\u001b[0;34m\u001b[0m\n\u001b[0;32m----> 1\u001b[0;31m \u001b[0mdf\u001b[0m\u001b[0;34m.\u001b[0m\u001b[0mnominal_hr\u001b[0m\u001b[0;34m\u001b[0m\u001b[0;34m\u001b[0m\u001b[0m\n\u001b[0m",
      "\u001b[0;32m/opt/anaconda3/lib/python3.7/site-packages/pandas/core/generic.py\u001b[0m in \u001b[0;36m__getattr__\u001b[0;34m(self, name)\u001b[0m\n\u001b[1;32m   5272\u001b[0m             \u001b[0;32mif\u001b[0m \u001b[0mself\u001b[0m\u001b[0;34m.\u001b[0m\u001b[0m_info_axis\u001b[0m\u001b[0;34m.\u001b[0m\u001b[0m_can_hold_identifiers_and_holds_name\u001b[0m\u001b[0;34m(\u001b[0m\u001b[0mname\u001b[0m\u001b[0;34m)\u001b[0m\u001b[0;34m:\u001b[0m\u001b[0;34m\u001b[0m\u001b[0;34m\u001b[0m\u001b[0m\n\u001b[1;32m   5273\u001b[0m                 \u001b[0;32mreturn\u001b[0m \u001b[0mself\u001b[0m\u001b[0;34m[\u001b[0m\u001b[0mname\u001b[0m\u001b[0;34m]\u001b[0m\u001b[0;34m\u001b[0m\u001b[0;34m\u001b[0m\u001b[0m\n\u001b[0;32m-> 5274\u001b[0;31m             \u001b[0;32mreturn\u001b[0m \u001b[0mobject\u001b[0m\u001b[0;34m.\u001b[0m\u001b[0m__getattribute__\u001b[0m\u001b[0;34m(\u001b[0m\u001b[0mself\u001b[0m\u001b[0;34m,\u001b[0m \u001b[0mname\u001b[0m\u001b[0;34m)\u001b[0m\u001b[0;34m\u001b[0m\u001b[0;34m\u001b[0m\u001b[0m\n\u001b[0m\u001b[1;32m   5275\u001b[0m \u001b[0;34m\u001b[0m\u001b[0m\n\u001b[1;32m   5276\u001b[0m     \u001b[0;32mdef\u001b[0m \u001b[0m__setattr__\u001b[0m\u001b[0;34m(\u001b[0m\u001b[0mself\u001b[0m\u001b[0;34m,\u001b[0m \u001b[0mname\u001b[0m\u001b[0;34m:\u001b[0m \u001b[0mstr\u001b[0m\u001b[0;34m,\u001b[0m \u001b[0mvalue\u001b[0m\u001b[0;34m)\u001b[0m \u001b[0;34m->\u001b[0m \u001b[0;32mNone\u001b[0m\u001b[0;34m:\u001b[0m\u001b[0;34m\u001b[0m\u001b[0;34m\u001b[0m\u001b[0m\n",
      "\u001b[0;31mAttributeError\u001b[0m: 'DataFrame' object has no attribute 'nominal_hr'"
     ]
    }
   ],
   "source": [
    "df.nominal_hr"
   ]
  },
  {
   "cell_type": "code",
   "execution_count": null,
   "metadata": {},
   "outputs": [],
   "source": [
    "# daily timeseries of moisture content\n",
    "df['nominal_hr'] = df.nominal_time.dt.hour\n",
    "\n",
    "fig, ax = plt.subplots()\n",
    "df[df.moistc_oven < 350].plot('nominal_hr','moistc_oven', ax=ax, kind='scatter')\n",
    "plt.ylabel('Moisture content (% DW)')\n",
    "plt.xlabel('Hour of day')\n",
    "plt.show()"
   ]
  },
  {
   "cell_type": "code",
   "execution_count": null,
   "metadata": {},
   "outputs": [],
   "source": [
    "# timeseries of moisture content with linear regression model fitted\n",
    "sns.regplot('nominal_hr','moistc_oven',data=df[df.moistc_oven < 350])\n",
    "plt.ylabel('Moisture content (% DW)')\n",
    "plt.xlabel('Hour of day')\n",
    "plt.show()"
   ]
  },
  {
   "cell_type": "code",
   "execution_count": null,
   "metadata": {},
   "outputs": [],
   "source": [
    "# timeseries of moisture content with locally weighted linear regression (loess) model fitted\n",
    "sns.regplot('nominal_hr','moistc_oven',data=df[df.moistc_oven < 350],lowess=True)\n",
    "plt.ylabel('Moisture content (% DW)')\n",
    "plt.xlabel('Hour of day')\n",
    "plt.show()"
   ]
  },
  {
   "cell_type": "code",
   "execution_count": null,
   "metadata": {},
   "outputs": [],
   "source": [
    "model = smf.ols('moistc_oven ~ nominal_hr', data=df[df.moistc_oven < 350])\n",
    "res = model.fit()"
   ]
  },
  {
   "cell_type": "code",
   "execution_count": null,
   "metadata": {},
   "outputs": [],
   "source": [
    "res.summary()"
   ]
  },
  {
   "cell_type": "code",
   "execution_count": null,
   "metadata": {},
   "outputs": [],
   "source": [
    "trend = res.predict()"
   ]
  },
  {
   "cell_type": "code",
   "execution_count": null,
   "metadata": {},
   "outputs": [],
   "source": [
    "# mean MC of each sampling time (nominal) without values equal to or above 350\n",
    "moistcontent_300 = moistcontent[moistcontent.moistc_oven<350]\n",
    "moistcontent_300.groupby(moistcontent_300.nominal_time.dt.hour).describe() # does not include positive outliers"
   ]
  },
  {
   "cell_type": "code",
   "execution_count": null,
   "metadata": {},
   "outputs": [],
   "source": [
    "# plot of mean MC of each sampling time (nominal)\n",
    "moistcontent.groupby(moistcontent.nominal_time.dt.hour).describe().loc[:, (['moistc_oven'], ['mean'])].plot() # may include outliers"
   ]
  },
  {
   "cell_type": "code",
   "execution_count": null,
   "metadata": {},
   "outputs": [],
   "source": [
    "moistcontent.groupby(moistcontent.nominal_time.dt.hour).sem()['moistc_oven']"
   ]
  },
  {
   "cell_type": "code",
   "execution_count": null,
   "metadata": {},
   "outputs": [],
   "source": [
    "# plot of mean MC of each sampling time (nominal)\n",
    "mean_erro = moistcontent.groupby(moistcontent.nominal_time.dt.hour).describe()#.loc[:, (['moistc_oven'], ['mean','std'])]\n",
    "mean_erro = mean_erro.transpose().reset_index(level=0,drop=True).transpose()[['mean']]\n",
    "mean_erro['err'] = moistcontent.groupby(moistcontent.nominal_time.dt.hour).sem()['moistc_oven']\n",
    "mean_erro.reset_index(inplace=True)"
   ]
  },
  {
   "cell_type": "code",
   "execution_count": null,
   "metadata": {},
   "outputs": [],
   "source": [
    "mean_erro"
   ]
  },
  {
   "cell_type": "code",
   "execution_count": null,
   "metadata": {},
   "outputs": [],
   "source": [
    "plt.errorbar(mean_erro['nominal_time'],mean_erro['mean'],mean_erro['err']) # may include outliers"
   ]
  },
  {
   "cell_type": "code",
   "execution_count": null,
   "metadata": {},
   "outputs": [],
   "source": [
    "# plot of mean MC of each sampling time (nominal)\n",
    "moistcontent.groupby(moistcontent.nominal_time.dt.hour).describe().loc[:, (['moistc_oven'], ['mean'])]"
   ]
  },
  {
   "cell_type": "code",
   "execution_count": null,
   "metadata": {},
   "outputs": [],
   "source": [
    "# plot of mean MC of each sampling time (nominal)\n",
    "moistcontent_300.groupby(moistcontent_300.nominal_time.dt.hour).describe().loc[:, (['moistc_oven'], ['mean'])].plot()"
   ]
  },
  {
   "cell_type": "code",
   "execution_count": null,
   "metadata": {},
   "outputs": [],
   "source": [
    "# plot of mean MC of each sampling time (nominal)\n",
    "moistcontent_300.groupby(moistcontent_300.nominal_time.dt.hour).describe().loc[:, (['moistc_oven'], ['mean'])].plot()"
   ]
  },
  {
   "cell_type": "code",
   "execution_count": null,
   "metadata": {},
   "outputs": [],
   "source": [
    "mean_moist = moistcontent.groupby(moistcontent.nominal_time.dt.hour).describe().loc[:, (['moistc_oven'], ['mean'])]\n",
    "rnge = mean_moist.max()-mean_moist.min()\n",
    "print('Difference within day of mean moisture max and min (%DW):',rnge.values[0])"
   ]
  },
  {
   "cell_type": "code",
   "execution_count": null,
   "metadata": {},
   "outputs": [],
   "source": [
    "mean_moist300 = moistcontent_300.groupby(moistcontent_300.nominal_time.dt.hour).describe().loc[:, (['moistc_oven'], ['mean'])]\n",
    "rnge = mean_moist300.max()-mean_moist300.min()\n",
    "print('Difference within day of mean moisture max and min (%DW):',rnge.values[0])"
   ]
  },
  {
   "cell_type": "code",
   "execution_count": null,
   "metadata": {},
   "outputs": [],
   "source": [
    "# plot timeseries (nominal) mean MC\n",
    "# df[['nominal_time','moistc_oven']].set_index('nominal_time').groupby(pd.Timedelta()).mean()#.plot()"
   ]
  },
  {
   "cell_type": "code",
   "execution_count": null,
   "metadata": {},
   "outputs": [],
   "source": [
    "# plot timeseries (nominal) median MC\n",
    "df.reset_index()[['nominal_time','moistc_oven']].groupby('nominal_time').median().plot()"
   ]
  },
  {
   "cell_type": "markdown",
   "metadata": {},
   "source": [
    "### Analyse very high values of moisture content (oven) for errors in calculation"
   ]
  },
  {
   "cell_type": "code",
   "execution_count": null,
   "metadata": {},
   "outputs": [],
   "source": [
    "df[df.moistc_oven > 250]"
   ]
  },
  {
   "cell_type": "code",
   "execution_count": null,
   "metadata": {},
   "outputs": [],
   "source": [
    "highmc = df[df.moistc_oven > 250][['fresh_weightnbag','ziplock_weight','fresh_weight','paperbag_weight','preoven_weight','oven_weight','dry_weight','moistc_oven']].sort_values('moistc_oven')"
   ]
  },
  {
   "cell_type": "code",
   "execution_count": null,
   "metadata": {},
   "outputs": [],
   "source": [
    "lowmc = df[df.moistc_oven < 100][['fresh_weightnbag','ziplock_weight','fresh_weight','paperbag_weight','preoven_weight','oven_weight','dry_weight','moistc_oven']].sort_values('moistc_oven')"
   ]
  },
  {
   "cell_type": "code",
   "execution_count": null,
   "metadata": {},
   "outputs": [],
   "source": [
    "lowmc"
   ]
  },
  {
   "cell_type": "code",
   "execution_count": null,
   "metadata": {},
   "outputs": [],
   "source": [
    "highmc # high mc samples (>250) come from different sampling times (5am & 9am), different trees (1-1,1-3,1-4,2-44,2-45)"
   ]
  },
  {
   "cell_type": "code",
   "execution_count": null,
   "metadata": {},
   "outputs": [],
   "source": [
    "# fresh = highmc.fresh_weightnbag - highmc.ziplock_weight\n",
    "# fresh"
   ]
  },
  {
   "cell_type": "code",
   "execution_count": null,
   "metadata": {},
   "outputs": [],
   "source": [
    "# dry = highmc.oven_weight - highmc.paperbag_weight\n",
    "# dry"
   ]
  },
  {
   "cell_type": "code",
   "execution_count": null,
   "metadata": {},
   "outputs": [],
   "source": [
    "# fmc = ((fresh-dry)/dry)*100\n",
    "# fmc"
   ]
  },
  {
   "cell_type": "code",
   "execution_count": null,
   "metadata": {},
   "outputs": [],
   "source": [
    "# diff = (fresh-dry)\n",
    "# diff"
   ]
  },
  {
   "cell_type": "code",
   "execution_count": null,
   "metadata": {},
   "outputs": [],
   "source": [
    "# plot mean MC along nominal sampling timeseries, while removing all MC values =>350%\n",
    "df[df.moistc_oven < 350].reset_index()[['nominal_time','moistc_oven']].groupby('nominal_time').mean().plot()"
   ]
  },
  {
   "cell_type": "code",
   "execution_count": null,
   "metadata": {},
   "outputs": [],
   "source": [
    "# plot mean MC along nominal sampling timeseries, while removing all MC values =>350%\n",
    "df[df.moistc_oven < 350].reset_index()[['nominal_time','moistc_oven']].groupby('nominal_time').mean()"
   ]
  },
  {
   "cell_type": "code",
   "execution_count": null,
   "metadata": {},
   "outputs": [],
   "source": [
    "# plot mean MC along nominal sampling timeseries, while removing all MC values =>350%\n",
    "df[df.moistc_oven < 350].reset_index()[['nominal_time','moistc_oven']].groupby('nominal_time').mean().plot.bar()"
   ]
  },
  {
   "cell_type": "code",
   "execution_count": null,
   "metadata": {},
   "outputs": [],
   "source": [
    "# plot median MC along nominal sampling timeseries, while removing all MC values =>350%\n",
    "df[df.moistc_oven < 350].reset_index()[['nominal_time','moistc_oven']].groupby('nominal_time').median().plot()"
   ]
  },
  {
   "cell_type": "code",
   "execution_count": null,
   "metadata": {},
   "outputs": [],
   "source": [
    "# plot median MC along nominal sampling timeseries, while removing all MC values =>350%\n",
    "df[df.moistc_oven < 350].reset_index()[['nominal_time','moistc_oven']].groupby('nominal_time').median().plot.bar()"
   ]
  },
  {
   "cell_type": "markdown",
   "metadata": {},
   "source": [
    "## Leaf water potential"
   ]
  },
  {
   "cell_type": "code",
   "execution_count": null,
   "metadata": {},
   "outputs": [],
   "source": [
    "# add new column of leaf water potential (inverse of chamber pressure)\n",
    "df['leaf_potential'] = 0 - df['chamber_pressure']"
   ]
  },
  {
   "cell_type": "code",
   "execution_count": null,
   "metadata": {},
   "outputs": [],
   "source": [
    "df['leaf_potential'].hist(bins=20)"
   ]
  },
  {
   "cell_type": "code",
   "execution_count": null,
   "metadata": {},
   "outputs": [],
   "source": [
    "df['leaf_potential'].describe()"
   ]
  },
  {
   "cell_type": "code",
   "execution_count": null,
   "metadata": {},
   "outputs": [],
   "source": [
    "df[['ontogeny','leaf_potential']].groupby('ontogeny').describe()"
   ]
  },
  {
   "cell_type": "code",
   "execution_count": null,
   "metadata": {},
   "outputs": [],
   "source": [
    "# daily timeseries of leaf water potential\n",
    "plt.plot(df['nominal_time'].dt.hour,df['leaf_potential'],'bo')\n",
    "plt.ylabel('Leaf water potential (mPa)')\n",
    "plt.xlabel('Hour of day')\n",
    "plt.show()"
   ]
  },
  {
   "cell_type": "code",
   "execution_count": null,
   "metadata": {},
   "outputs": [],
   "source": [
    "# for comparison with above, daily timeseries of moisture content\n",
    "plt.plot(df[df.moistc_oven < 300]['nominal_time'].dt.hour,df[df.moistc_oven < 300]['moistc_oven'],'go')\n",
    "plt.ylabel('Moisture content (% DW)')\n",
    "plt.xlabel('Hour of day')\n",
    "plt.show()"
   ]
  },
  {
   "cell_type": "code",
   "execution_count": null,
   "metadata": {},
   "outputs": [],
   "source": [
    "# daily timeseries (nominal times) of moisture content and water potential"
   ]
  },
  {
   "cell_type": "code",
   "execution_count": null,
   "metadata": {},
   "outputs": [],
   "source": [
    "# describe water potential of each sampling time (nominal)\n",
    "waterpotent = df.reset_index()[['nominal_time','leaf_potential']]\n",
    "waterpotent.groupby(waterpotent.nominal_time.dt.hour).describe() # may include outliers"
   ]
  },
  {
   "cell_type": "code",
   "execution_count": null,
   "metadata": {},
   "outputs": [],
   "source": [
    "# mean MC of each sampling time (nominal) without values equal to or above 350\n",
    "moistcontent_300 = moistcontent[moistcontent.moistc_oven<350]\n",
    "moistcontent_300.groupby(moistcontent_300.nominal_time.dt.hour).describe() # does not include positive outliers"
   ]
  },
  {
   "cell_type": "code",
   "execution_count": 47,
   "metadata": {},
   "outputs": [
    {
     "ename": "NameError",
     "evalue": "name 'waterpotent' is not defined",
     "output_type": "error",
     "traceback": [
      "\u001b[0;31m---------------------------------------------------------------------------\u001b[0m",
      "\u001b[0;31mNameError\u001b[0m                                 Traceback (most recent call last)",
      "\u001b[0;32m<ipython-input-47-d22785bc42a7>\u001b[0m in \u001b[0;36m<module>\u001b[0;34m\u001b[0m\n\u001b[1;32m      1\u001b[0m \u001b[0;31m# plot of mean water potential of each sampling time (nominal)\u001b[0m\u001b[0;34m\u001b[0m\u001b[0;34m\u001b[0m\u001b[0;34m\u001b[0m\u001b[0m\n\u001b[0;32m----> 2\u001b[0;31m \u001b[0mwaterpotent\u001b[0m\u001b[0;34m.\u001b[0m\u001b[0mgroupby\u001b[0m\u001b[0;34m(\u001b[0m\u001b[0mwaterpotent\u001b[0m\u001b[0;34m.\u001b[0m\u001b[0mnominal_time\u001b[0m\u001b[0;34m.\u001b[0m\u001b[0mdt\u001b[0m\u001b[0;34m.\u001b[0m\u001b[0mhour\u001b[0m\u001b[0;34m)\u001b[0m\u001b[0;34m.\u001b[0m\u001b[0mdescribe\u001b[0m\u001b[0;34m(\u001b[0m\u001b[0;34m)\u001b[0m\u001b[0;34m.\u001b[0m\u001b[0mloc\u001b[0m\u001b[0;34m[\u001b[0m\u001b[0;34m:\u001b[0m\u001b[0;34m,\u001b[0m \u001b[0;34m(\u001b[0m\u001b[0;34m[\u001b[0m\u001b[0;34m'leaf_potential'\u001b[0m\u001b[0;34m]\u001b[0m\u001b[0;34m,\u001b[0m \u001b[0;34m[\u001b[0m\u001b[0;34m'mean'\u001b[0m\u001b[0;34m]\u001b[0m\u001b[0;34m)\u001b[0m\u001b[0;34m]\u001b[0m\u001b[0;34m.\u001b[0m\u001b[0mplot\u001b[0m\u001b[0;34m(\u001b[0m\u001b[0;34m)\u001b[0m \u001b[0;31m# may include outliers\u001b[0m\u001b[0;34m\u001b[0m\u001b[0;34m\u001b[0m\u001b[0m\n\u001b[0m",
      "\u001b[0;31mNameError\u001b[0m: name 'waterpotent' is not defined"
     ]
    }
   ],
   "source": [
    "# plot of mean water potential of each sampling time (nominal)\n",
    "waterpotent.groupby(waterpotent.nominal_time.dt.hour).describe().loc[:, (['leaf_potential'], ['mean'])].plot() # may include outliers"
   ]
  },
  {
   "cell_type": "code",
   "execution_count": null,
   "metadata": {},
   "outputs": [],
   "source": [
    "# plot of mean MC of each sampling time (nominal) - MC < 350%\n",
    "moistcontent_300.groupby(moistcontent_300.nominal_time.dt.hour).describe().loc[:, (['moistc_oven'], ['mean'])].plot()"
   ]
  },
  {
   "cell_type": "code",
   "execution_count": null,
   "metadata": {},
   "outputs": [],
   "source": [
    "# plot of mean water potential of each sampling time (nominal)\n",
    "waterpotent.groupby(waterpotent.nominal_time.dt.hour).describe().loc[:, (['leaf_potential'], ['std'])].plot() # may include outliers"
   ]
  },
  {
   "cell_type": "code",
   "execution_count": null,
   "metadata": {},
   "outputs": [],
   "source": [
    "# plot of mean MC of each sampling time (nominal) - MC < 350%\n",
    "moistcontent_300.groupby(moistcontent_300.nominal_time.dt.hour).describe().loc[:, (['moistc_oven'], ['std'])].plot()"
   ]
  },
  {
   "cell_type": "code",
   "execution_count": null,
   "metadata": {},
   "outputs": [],
   "source": [
    "# # timeseries of mean leaf water potential\n",
    "# df.reset_index()[['nominal_time','leaf_potential']].groupby('nominal_time').mean().plot()\n",
    "# plt.ylabel('Leaf water potential (mPa)')\n",
    "# plt.xlabel('Time of day')\n",
    "# plt.show()"
   ]
  },
  {
   "cell_type": "markdown",
   "metadata": {},
   "source": [
    "## Quantify the rate of increase through time in water potential and moisture content after minimum values\n",
    " - it appears that moisture content after midday/afternoon lows increases faster than water potential"
   ]
  },
  {
   "cell_type": "markdown",
   "metadata": {},
   "source": [
    "## Scatterplots of moisture content against all explanatory variables"
   ]
  },
  {
   "cell_type": "code",
   "execution_count": null,
   "metadata": {},
   "outputs": [],
   "source": [
    "plt.scatter(df.leaf_potential,df.moistc_oven)"
   ]
  },
  {
   "cell_type": "code",
   "execution_count": null,
   "metadata": {},
   "outputs": [],
   "source": [
    "plt.scatter(df[df.moistc_oven<350].leaf_potential,df[df.moistc_oven<350].moistc_oven) # where moisture content < 350 %DM"
   ]
  },
  {
   "cell_type": "code",
   "execution_count": null,
   "metadata": {},
   "outputs": [],
   "source": [
    "plt.scatter(df.vpd,df.moistc_oven)"
   ]
  },
  {
   "cell_type": "code",
   "execution_count": null,
   "metadata": {},
   "outputs": [],
   "source": [
    "plt.scatter(df.humidity,df.moistc_oven)"
   ]
  },
  {
   "cell_type": "code",
   "execution_count": null,
   "metadata": {},
   "outputs": [],
   "source": [
    "plt.scatter(df.temp,df.moistc_oven)"
   ]
  },
  {
   "cell_type": "code",
   "execution_count": null,
   "metadata": {},
   "outputs": [],
   "source": [
    "plt.scatter(df.wind,df.moistc_oven)"
   ]
  },
  {
   "cell_type": "code",
   "execution_count": null,
   "metadata": {},
   "outputs": [],
   "source": [
    "plt.scatter(df[df.wind>0].wind,df[df.wind>0].moistc_oven) # where wind > 0"
   ]
  },
  {
   "cell_type": "code",
   "execution_count": null,
   "metadata": {},
   "outputs": [],
   "source": [
    "plt.scatter(df.radiation,df.moistc_oven)"
   ]
  },
  {
   "cell_type": "code",
   "execution_count": null,
   "metadata": {},
   "outputs": [],
   "source": [
    "plt.scatter(df.soil_moisture,df.moistc_oven)"
   ]
  },
  {
   "cell_type": "code",
   "execution_count": null,
   "metadata": {},
   "outputs": [],
   "source": [
    "plt.scatter(df.surf_moist,df.moistc_oven)"
   ]
  },
  {
   "cell_type": "code",
   "execution_count": null,
   "metadata": {},
   "outputs": [],
   "source": [
    "plt.scatter(df.rain_24h,df.moistc_oven)"
   ]
  },
  {
   "cell_type": "code",
   "execution_count": null,
   "metadata": {},
   "outputs": [],
   "source": [
    "plt.scatter(df.rain_2d,df.moistc_oven)"
   ]
  },
  {
   "cell_type": "code",
   "execution_count": null,
   "metadata": {},
   "outputs": [],
   "source": [
    "plt.scatter(df.rain_3d,df.moistc_oven)"
   ]
  },
  {
   "cell_type": "code",
   "execution_count": null,
   "metadata": {},
   "outputs": [],
   "source": [
    "plt.scatter(df.rain_3w,df.moistc_oven)"
   ]
  },
  {
   "cell_type": "code",
   "execution_count": 48,
   "metadata": {},
   "outputs": [
    {
     "data": {
      "text/plain": [
       "<matplotlib.axes._subplots.AxesSubplot at 0x1a203f8b50>"
      ]
     },
     "execution_count": 48,
     "metadata": {},
     "output_type": "execute_result"
    },
    {
     "data": {
      "image/png": "[encoded data removed]",
      "text/plain": [
       "<Figure size 432x288 with 1 Axes>"
      ]
     },
     "metadata": {
      "needs_background": "light"
     },
     "output_type": "display_data"
    }
   ],
   "source": [
    "df.plot.scatter(x='sla',y='moistc_oven')"
   ]
  },
  {
   "cell_type": "code",
   "execution_count": 49,
   "metadata": {},
   "outputs": [
    {
     "data": {
      "text/plain": [
       "<matplotlib.axes._subplots.AxesSubplot at 0x1a20566410>"
      ]
     },
     "execution_count": 49,
     "metadata": {},
     "output_type": "execute_result"
    },
    {
     "data": {
      "image/png": "[encoded data removed]",
      "text/plain": [
       "<Figure size 432x288 with 1 Axes>"
      ]
     },
     "metadata": {
      "needs_background": "light"
     },
     "output_type": "display_data"
    }
   ],
   "source": [
    "df.plot.scatter(x='lma',y='moistc_oven')"
   ]
  },
  {
   "cell_type": "code",
   "execution_count": 50,
   "metadata": {},
   "outputs": [],
   "source": [
    "# df.boxplot(column=['lma','sla'],by='ontogeny')"
   ]
  },
  {
   "cell_type": "markdown",
   "metadata": {},
   "source": [
    "## Vapor pressure deficit"
   ]
  },
  {
   "cell_type": "code",
   "execution_count": 51,
   "metadata": {},
   "outputs": [
    {
     "data": {
      "text/plain": [
       "<matplotlib.axes._subplots.AxesSubplot at 0x1a20746e50>"
      ]
     },
     "execution_count": 51,
     "metadata": {},
     "output_type": "execute_result"
    },
    {
     "data": {
      "image/png": "[encoded data removed]",
      "text/plain": [
       "<Figure size 432x288 with 1 Axes>"
      ]
     },
     "metadata": {
      "needs_background": "light"
     },
     "output_type": "display_data"
    }
   ],
   "source": [
    "df['vpd'].hist(bins=20)"
   ]
  },
  {
   "cell_type": "code",
   "execution_count": 52,
   "metadata": {},
   "outputs": [
    {
     "data": {
      "text/plain": [
       "count    96.000000\n",
       "mean      1.527704\n",
       "std       0.164977\n",
       "min       1.227950\n",
       "25%       1.385701\n",
       "50%       1.553535\n",
       "75%       1.644813\n",
       "max       1.810815\n",
       "Name: vpd, dtype: float64"
      ]
     },
     "execution_count": 52,
     "metadata": {},
     "output_type": "execute_result"
    }
   ],
   "source": [
    "df['vpd'].describe()"
   ]
  },
  {
   "cell_type": "code",
   "execution_count": 53,
   "metadata": {},
   "outputs": [
    {
     "data": {
      "image/png": "[encoded data removed]",
      "text/plain": [
       "<Figure size 432x288 with 1 Axes>"
      ]
     },
     "metadata": {
      "needs_background": "light"
     },
     "output_type": "display_data"
    }
   ],
   "source": [
    "# daily timeseries of leaf water potential\n",
    "plt.plot(df['nominal_time'].dt.hour,df['vpd'],'bo')\n",
    "plt.ylabel('Vapor pressure deficit (kPa)')\n",
    "plt.xlabel('Hour of day')\n",
    "plt.show()"
   ]
  },
  {
   "cell_type": "code",
   "execution_count": 54,
   "metadata": {},
   "outputs": [
    {
     "data": {
      "image/png": "[encoded data removed]",
      "text/plain": [
       "<Figure size 432x288 with 1 Axes>"
      ]
     },
     "metadata": {
      "needs_background": "light"
     },
     "output_type": "display_data"
    }
   ],
   "source": [
    "# daily timeseries of leaf water potential\n",
    "plt.scatter(df['nominal_time'].dt.hour,df['vpd'],c=df['nominal_time'].dt.day)\n",
    "plt.ylabel('Vapor pressure deficit (kPa)')\n",
    "plt.xlabel('Hour of day')\n",
    "plt.show()"
   ]
  },
  {
   "cell_type": "markdown",
   "metadata": {},
   "source": [
    "## Basic modelling"
   ]
  },
  {
   "cell_type": "code",
   "execution_count": 55,
   "metadata": {},
   "outputs": [],
   "source": [
    "import numpy as np\n",
    "import statsmodels.formula.api as smf"
   ]
  },
  {
   "cell_type": "code",
   "execution_count": 56,
   "metadata": {},
   "outputs": [
    {
     "data": {
      "text/plain": [
       "Index(['nominal_time', 'sample_id', 'tree_id', 'ontogeny', 'surf_moist',\n",
       "       'fresh_weightnbag', 'time_fresh', 'falcon_weight', 'chamber_pressure',\n",
       "       'scan_id', 'total_leafarea', 'ziplock_weight', 'fresh_weight',\n",
       "       'paperbag_weight', 'preoven_weight', 'oven_weight', 'dry_weight', 'lma',\n",
       "       'sla', 'falcon_weight_empty', 'dmso_weight', 'titra_sample_weight',\n",
       "       'moistc_oven', 'moistc_titrat', 'wind', 'temp', 'humidity', 'vpd',\n",
       "       'radiation', 'soil_moisture', 'rainfall', 'comments', 'rain_24h',\n",
       "       'rain_2d', 'rain_3d', 'rain_3w'],\n",
       "      dtype='object')"
      ]
     },
     "execution_count": 56,
     "metadata": {},
     "output_type": "execute_result"
    }
   ],
   "source": [
    "df.columns"
   ]
  },
  {
   "cell_type": "code",
   "execution_count": 57,
   "metadata": {},
   "outputs": [
    {
     "ename": "PatsyError",
     "evalue": "Error evaluating factor: NameError: name 'leaf_potential' is not defined\n    leaf_potential ~ moistc_oven\n    ^^^^^^^^^^^^^^",
     "output_type": "error",
     "traceback": [
      "\u001b[0;31m---------------------------------------------------------------------------\u001b[0m",
      "\u001b[0;31mNameError\u001b[0m                                 Traceback (most recent call last)",
      "\u001b[0;32m/opt/anaconda3/lib/python3.7/site-packages/patsy/compat.py\u001b[0m in \u001b[0;36mcall_and_wrap_exc\u001b[0;34m(msg, origin, f, *args, **kwargs)\u001b[0m\n\u001b[1;32m     35\u001b[0m     \u001b[0;32mtry\u001b[0m\u001b[0;34m:\u001b[0m\u001b[0;34m\u001b[0m\u001b[0;34m\u001b[0m\u001b[0m\n\u001b[0;32m---> 36\u001b[0;31m         \u001b[0;32mreturn\u001b[0m \u001b[0mf\u001b[0m\u001b[0;34m(\u001b[0m\u001b[0;34m*\u001b[0m\u001b[0margs\u001b[0m\u001b[0;34m,\u001b[0m \u001b[0;34m**\u001b[0m\u001b[0mkwargs\u001b[0m\u001b[0;34m)\u001b[0m\u001b[0;34m\u001b[0m\u001b[0;34m\u001b[0m\u001b[0m\n\u001b[0m\u001b[1;32m     37\u001b[0m     \u001b[0;32mexcept\u001b[0m \u001b[0mException\u001b[0m \u001b[0;32mas\u001b[0m \u001b[0me\u001b[0m\u001b[0;34m:\u001b[0m\u001b[0;34m\u001b[0m\u001b[0;34m\u001b[0m\u001b[0m\n",
      "\u001b[0;32m/opt/anaconda3/lib/python3.7/site-packages/patsy/eval.py\u001b[0m in \u001b[0;36meval\u001b[0;34m(self, expr, source_name, inner_namespace)\u001b[0m\n\u001b[1;32m    165\u001b[0m         return eval(code, {}, VarLookupDict([inner_namespace]\n\u001b[0;32m--> 166\u001b[0;31m                                             + self._namespaces))\n\u001b[0m\u001b[1;32m    167\u001b[0m \u001b[0;34m\u001b[0m\u001b[0m\n",
      "\u001b[0;32m<string>\u001b[0m in \u001b[0;36m<module>\u001b[0;34m\u001b[0m\n",
      "\u001b[0;31mNameError\u001b[0m: name 'leaf_potential' is not defined",
      "\nThe above exception was the direct cause of the following exception:\n",
      "\u001b[0;31mPatsyError\u001b[0m                                Traceback (most recent call last)",
      "\u001b[0;32m<ipython-input-57-cd031aefa10d>\u001b[0m in \u001b[0;36m<module>\u001b[0;34m\u001b[0m\n\u001b[0;32m----> 1\u001b[0;31m \u001b[0mresults\u001b[0m \u001b[0;34m=\u001b[0m \u001b[0msmf\u001b[0m\u001b[0;34m.\u001b[0m\u001b[0mols\u001b[0m\u001b[0;34m(\u001b[0m\u001b[0;34m'leaf_potential ~ moistc_oven'\u001b[0m\u001b[0;34m,\u001b[0m \u001b[0mdata\u001b[0m\u001b[0;34m=\u001b[0m\u001b[0mdf\u001b[0m\u001b[0;34m)\u001b[0m\u001b[0;34m.\u001b[0m\u001b[0mfit\u001b[0m\u001b[0;34m(\u001b[0m\u001b[0;34m)\u001b[0m\u001b[0;34m\u001b[0m\u001b[0;34m\u001b[0m\u001b[0m\n\u001b[0m",
      "\u001b[0;32m/opt/anaconda3/lib/python3.7/site-packages/statsmodels/base/model.py\u001b[0m in \u001b[0;36mfrom_formula\u001b[0;34m(cls, formula, data, subset, drop_cols, *args, **kwargs)\u001b[0m\n\u001b[1;32m    167\u001b[0m \u001b[0;34m\u001b[0m\u001b[0m\n\u001b[1;32m    168\u001b[0m         tmp = handle_formula_data(data, None, formula, depth=eval_env,\n\u001b[0;32m--> 169\u001b[0;31m                                   missing=missing)\n\u001b[0m\u001b[1;32m    170\u001b[0m         \u001b[0;34m(\u001b[0m\u001b[0;34m(\u001b[0m\u001b[0mendog\u001b[0m\u001b[0;34m,\u001b[0m \u001b[0mexog\u001b[0m\u001b[0;34m)\u001b[0m\u001b[0;34m,\u001b[0m \u001b[0mmissing_idx\u001b[0m\u001b[0;34m,\u001b[0m \u001b[0mdesign_info\u001b[0m\u001b[0;34m)\u001b[0m \u001b[0;34m=\u001b[0m \u001b[0mtmp\u001b[0m\u001b[0;34m\u001b[0m\u001b[0;34m\u001b[0m\u001b[0m\n\u001b[1;32m    171\u001b[0m         \u001b[0mmax_endog\u001b[0m \u001b[0;34m=\u001b[0m \u001b[0mcls\u001b[0m\u001b[0;34m.\u001b[0m\u001b[0m_formula_max_endog\u001b[0m\u001b[0;34m\u001b[0m\u001b[0;34m\u001b[0m\u001b[0m\n",
      "\u001b[0;32m/opt/anaconda3/lib/python3.7/site-packages/statsmodels/formula/formulatools.py\u001b[0m in \u001b[0;36mhandle_formula_data\u001b[0;34m(Y, X, formula, depth, missing)\u001b[0m\n\u001b[1;32m     63\u001b[0m         \u001b[0;32mif\u001b[0m \u001b[0mdata_util\u001b[0m\u001b[0;34m.\u001b[0m\u001b[0m_is_using_pandas\u001b[0m\u001b[0;34m(\u001b[0m\u001b[0mY\u001b[0m\u001b[0;34m,\u001b[0m \u001b[0;32mNone\u001b[0m\u001b[0;34m)\u001b[0m\u001b[0;34m:\u001b[0m\u001b[0;34m\u001b[0m\u001b[0;34m\u001b[0m\u001b[0m\n\u001b[1;32m     64\u001b[0m             result = dmatrices(formula, Y, depth, return_type='dataframe',\n\u001b[0;32m---> 65\u001b[0;31m                                NA_action=na_action)\n\u001b[0m\u001b[1;32m     66\u001b[0m         \u001b[0;32melse\u001b[0m\u001b[0;34m:\u001b[0m\u001b[0;34m\u001b[0m\u001b[0;34m\u001b[0m\u001b[0m\n\u001b[1;32m     67\u001b[0m             result = dmatrices(formula, Y, depth, return_type='dataframe',\n",
      "\u001b[0;32m/opt/anaconda3/lib/python3.7/site-packages/patsy/highlevel.py\u001b[0m in \u001b[0;36mdmatrices\u001b[0;34m(formula_like, data, eval_env, NA_action, return_type)\u001b[0m\n\u001b[1;32m    308\u001b[0m     \u001b[0meval_env\u001b[0m \u001b[0;34m=\u001b[0m \u001b[0mEvalEnvironment\u001b[0m\u001b[0;34m.\u001b[0m\u001b[0mcapture\u001b[0m\u001b[0;34m(\u001b[0m\u001b[0meval_env\u001b[0m\u001b[0;34m,\u001b[0m \u001b[0mreference\u001b[0m\u001b[0;34m=\u001b[0m\u001b[0;36m1\u001b[0m\u001b[0;34m)\u001b[0m\u001b[0;34m\u001b[0m\u001b[0;34m\u001b[0m\u001b[0m\n\u001b[1;32m    309\u001b[0m     (lhs, rhs) = _do_highlevel_design(formula_like, data, eval_env,\n\u001b[0;32m--> 310\u001b[0;31m                                       NA_action, return_type)\n\u001b[0m\u001b[1;32m    311\u001b[0m     \u001b[0;32mif\u001b[0m \u001b[0mlhs\u001b[0m\u001b[0;34m.\u001b[0m\u001b[0mshape\u001b[0m\u001b[0;34m[\u001b[0m\u001b[0;36m1\u001b[0m\u001b[0;34m]\u001b[0m \u001b[0;34m==\u001b[0m \u001b[0;36m0\u001b[0m\u001b[0;34m:\u001b[0m\u001b[0;34m\u001b[0m\u001b[0;34m\u001b[0m\u001b[0m\n\u001b[1;32m    312\u001b[0m         \u001b[0;32mraise\u001b[0m \u001b[0mPatsyError\u001b[0m\u001b[0;34m(\u001b[0m\u001b[0;34m\"model is missing required outcome variables\"\u001b[0m\u001b[0;34m)\u001b[0m\u001b[0;34m\u001b[0m\u001b[0;34m\u001b[0m\u001b[0m\n",
      "\u001b[0;32m/opt/anaconda3/lib/python3.7/site-packages/patsy/highlevel.py\u001b[0m in \u001b[0;36m_do_highlevel_design\u001b[0;34m(formula_like, data, eval_env, NA_action, return_type)\u001b[0m\n\u001b[1;32m    163\u001b[0m         \u001b[0;32mreturn\u001b[0m \u001b[0miter\u001b[0m\u001b[0;34m(\u001b[0m\u001b[0;34m[\u001b[0m\u001b[0mdata\u001b[0m\u001b[0;34m]\u001b[0m\u001b[0;34m)\u001b[0m\u001b[0;34m\u001b[0m\u001b[0;34m\u001b[0m\u001b[0m\n\u001b[1;32m    164\u001b[0m     design_infos = _try_incr_builders(formula_like, data_iter_maker, eval_env,\n\u001b[0;32m--> 165\u001b[0;31m                                       NA_action)\n\u001b[0m\u001b[1;32m    166\u001b[0m     \u001b[0;32mif\u001b[0m \u001b[0mdesign_infos\u001b[0m \u001b[0;32mis\u001b[0m \u001b[0;32mnot\u001b[0m \u001b[0;32mNone\u001b[0m\u001b[0;34m:\u001b[0m\u001b[0;34m\u001b[0m\u001b[0;34m\u001b[0m\u001b[0m\n\u001b[1;32m    167\u001b[0m         return build_design_matrices(design_infos, data,\n",
      "\u001b[0;32m/opt/anaconda3/lib/python3.7/site-packages/patsy/highlevel.py\u001b[0m in \u001b[0;36m_try_incr_builders\u001b[0;34m(formula_like, data_iter_maker, eval_env, NA_action)\u001b[0m\n\u001b[1;32m     68\u001b[0m                                       \u001b[0mdata_iter_maker\u001b[0m\u001b[0;34m,\u001b[0m\u001b[0;34m\u001b[0m\u001b[0;34m\u001b[0m\u001b[0m\n\u001b[1;32m     69\u001b[0m                                       \u001b[0meval_env\u001b[0m\u001b[0;34m,\u001b[0m\u001b[0;34m\u001b[0m\u001b[0;34m\u001b[0m\u001b[0m\n\u001b[0;32m---> 70\u001b[0;31m                                       NA_action)\n\u001b[0m\u001b[1;32m     71\u001b[0m     \u001b[0;32melse\u001b[0m\u001b[0;34m:\u001b[0m\u001b[0;34m\u001b[0m\u001b[0;34m\u001b[0m\u001b[0m\n\u001b[1;32m     72\u001b[0m         \u001b[0;32mreturn\u001b[0m \u001b[0;32mNone\u001b[0m\u001b[0;34m\u001b[0m\u001b[0;34m\u001b[0m\u001b[0m\n",
      "\u001b[0;32m/opt/anaconda3/lib/python3.7/site-packages/patsy/build.py\u001b[0m in \u001b[0;36mdesign_matrix_builders\u001b[0;34m(termlists, data_iter_maker, eval_env, NA_action)\u001b[0m\n\u001b[1;32m    694\u001b[0m                                                    \u001b[0mfactor_states\u001b[0m\u001b[0;34m,\u001b[0m\u001b[0;34m\u001b[0m\u001b[0;34m\u001b[0m\u001b[0m\n\u001b[1;32m    695\u001b[0m                                                    \u001b[0mdata_iter_maker\u001b[0m\u001b[0;34m,\u001b[0m\u001b[0;34m\u001b[0m\u001b[0;34m\u001b[0m\u001b[0m\n\u001b[0;32m--> 696\u001b[0;31m                                                    NA_action)\n\u001b[0m\u001b[1;32m    697\u001b[0m     \u001b[0;31m# Now we need the factor infos, which encapsulate the knowledge of\u001b[0m\u001b[0;34m\u001b[0m\u001b[0;34m\u001b[0m\u001b[0;34m\u001b[0m\u001b[0m\n\u001b[1;32m    698\u001b[0m     \u001b[0;31m# how to turn any given factor into a chunk of data:\u001b[0m\u001b[0;34m\u001b[0m\u001b[0;34m\u001b[0m\u001b[0;34m\u001b[0m\u001b[0m\n",
      "\u001b[0;32m/opt/anaconda3/lib/python3.7/site-packages/patsy/build.py\u001b[0m in \u001b[0;36m_examine_factor_types\u001b[0;34m(factors, factor_states, data_iter_maker, NA_action)\u001b[0m\n\u001b[1;32m    441\u001b[0m     \u001b[0;32mfor\u001b[0m \u001b[0mdata\u001b[0m \u001b[0;32min\u001b[0m \u001b[0mdata_iter_maker\u001b[0m\u001b[0;34m(\u001b[0m\u001b[0;34m)\u001b[0m\u001b[0;34m:\u001b[0m\u001b[0;34m\u001b[0m\u001b[0;34m\u001b[0m\u001b[0m\n\u001b[1;32m    442\u001b[0m         \u001b[0;32mfor\u001b[0m \u001b[0mfactor\u001b[0m \u001b[0;32min\u001b[0m \u001b[0mlist\u001b[0m\u001b[0;34m(\u001b[0m\u001b[0mexamine_needed\u001b[0m\u001b[0;34m)\u001b[0m\u001b[0;34m:\u001b[0m\u001b[0;34m\u001b[0m\u001b[0;34m\u001b[0m\u001b[0m\n\u001b[0;32m--> 443\u001b[0;31m             \u001b[0mvalue\u001b[0m \u001b[0;34m=\u001b[0m \u001b[0mfactor\u001b[0m\u001b[0;34m.\u001b[0m\u001b[0meval\u001b[0m\u001b[0;34m(\u001b[0m\u001b[0mfactor_states\u001b[0m\u001b[0;34m[\u001b[0m\u001b[0mfactor\u001b[0m\u001b[0;34m]\u001b[0m\u001b[0;34m,\u001b[0m \u001b[0mdata\u001b[0m\u001b[0;34m)\u001b[0m\u001b[0;34m\u001b[0m\u001b[0;34m\u001b[0m\u001b[0m\n\u001b[0m\u001b[1;32m    444\u001b[0m             \u001b[0;32mif\u001b[0m \u001b[0mfactor\u001b[0m \u001b[0;32min\u001b[0m \u001b[0mcat_sniffers\u001b[0m \u001b[0;32mor\u001b[0m \u001b[0mguess_categorical\u001b[0m\u001b[0;34m(\u001b[0m\u001b[0mvalue\u001b[0m\u001b[0;34m)\u001b[0m\u001b[0;34m:\u001b[0m\u001b[0;34m\u001b[0m\u001b[0;34m\u001b[0m\u001b[0m\n\u001b[1;32m    445\u001b[0m                 \u001b[0;32mif\u001b[0m \u001b[0mfactor\u001b[0m \u001b[0;32mnot\u001b[0m \u001b[0;32min\u001b[0m \u001b[0mcat_sniffers\u001b[0m\u001b[0;34m:\u001b[0m\u001b[0;34m\u001b[0m\u001b[0;34m\u001b[0m\u001b[0m\n",
      "\u001b[0;32m/opt/anaconda3/lib/python3.7/site-packages/patsy/eval.py\u001b[0m in \u001b[0;36meval\u001b[0;34m(self, memorize_state, data)\u001b[0m\n\u001b[1;32m    564\u001b[0m         return self._eval(memorize_state[\"eval_code\"],\n\u001b[1;32m    565\u001b[0m                           \u001b[0mmemorize_state\u001b[0m\u001b[0;34m,\u001b[0m\u001b[0;34m\u001b[0m\u001b[0;34m\u001b[0m\u001b[0m\n\u001b[0;32m--> 566\u001b[0;31m                           data)\n\u001b[0m\u001b[1;32m    567\u001b[0m \u001b[0;34m\u001b[0m\u001b[0m\n\u001b[1;32m    568\u001b[0m     \u001b[0m__getstate__\u001b[0m \u001b[0;34m=\u001b[0m \u001b[0mno_pickling\u001b[0m\u001b[0;34m\u001b[0m\u001b[0;34m\u001b[0m\u001b[0m\n",
      "\u001b[0;32m/opt/anaconda3/lib/python3.7/site-packages/patsy/eval.py\u001b[0m in \u001b[0;36m_eval\u001b[0;34m(self, code, memorize_state, data)\u001b[0m\n\u001b[1;32m    549\u001b[0m                                  \u001b[0mmemorize_state\u001b[0m\u001b[0;34m[\u001b[0m\u001b[0;34m\"eval_env\"\u001b[0m\u001b[0;34m]\u001b[0m\u001b[0;34m.\u001b[0m\u001b[0meval\u001b[0m\u001b[0;34m,\u001b[0m\u001b[0;34m\u001b[0m\u001b[0;34m\u001b[0m\u001b[0m\n\u001b[1;32m    550\u001b[0m                                  \u001b[0mcode\u001b[0m\u001b[0;34m,\u001b[0m\u001b[0;34m\u001b[0m\u001b[0;34m\u001b[0m\u001b[0m\n\u001b[0;32m--> 551\u001b[0;31m                                  inner_namespace=inner_namespace)\n\u001b[0m\u001b[1;32m    552\u001b[0m \u001b[0;34m\u001b[0m\u001b[0m\n\u001b[1;32m    553\u001b[0m     \u001b[0;32mdef\u001b[0m \u001b[0mmemorize_chunk\u001b[0m\u001b[0;34m(\u001b[0m\u001b[0mself\u001b[0m\u001b[0;34m,\u001b[0m \u001b[0mstate\u001b[0m\u001b[0;34m,\u001b[0m \u001b[0mwhich_pass\u001b[0m\u001b[0;34m,\u001b[0m \u001b[0mdata\u001b[0m\u001b[0;34m)\u001b[0m\u001b[0;34m:\u001b[0m\u001b[0;34m\u001b[0m\u001b[0;34m\u001b[0m\u001b[0m\n",
      "\u001b[0;32m/opt/anaconda3/lib/python3.7/site-packages/patsy/compat.py\u001b[0m in \u001b[0;36mcall_and_wrap_exc\u001b[0;34m(msg, origin, f, *args, **kwargs)\u001b[0m\n\u001b[1;32m     41\u001b[0m                                  origin)\n\u001b[1;32m     42\u001b[0m             \u001b[0;31m# Use 'exec' to hide this syntax from the Python 2 parser:\u001b[0m\u001b[0;34m\u001b[0m\u001b[0;34m\u001b[0m\u001b[0;34m\u001b[0m\u001b[0m\n\u001b[0;32m---> 43\u001b[0;31m             \u001b[0mexec\u001b[0m\u001b[0;34m(\u001b[0m\u001b[0;34m\"raise new_exc from e\"\u001b[0m\u001b[0;34m)\u001b[0m\u001b[0;34m\u001b[0m\u001b[0;34m\u001b[0m\u001b[0m\n\u001b[0m\u001b[1;32m     44\u001b[0m         \u001b[0;32melse\u001b[0m\u001b[0;34m:\u001b[0m\u001b[0;34m\u001b[0m\u001b[0;34m\u001b[0m\u001b[0m\n\u001b[1;32m     45\u001b[0m             \u001b[0;31m# In python 2, we just let the original exception escape -- better\u001b[0m\u001b[0;34m\u001b[0m\u001b[0;34m\u001b[0m\u001b[0;34m\u001b[0m\u001b[0m\n",
      "\u001b[0;32m/opt/anaconda3/lib/python3.7/site-packages/patsy/compat.py\u001b[0m in \u001b[0;36m<module>\u001b[0;34m\u001b[0m\n",
      "\u001b[0;31mPatsyError\u001b[0m: Error evaluating factor: NameError: name 'leaf_potential' is not defined\n    leaf_potential ~ moistc_oven\n    ^^^^^^^^^^^^^^"
     ]
    }
   ],
   "source": [
    "results = smf.ols('leaf_potential ~ moistc_oven', data=df).fit()"
   ]
  },
  {
   "cell_type": "code",
   "execution_count": null,
   "metadata": {},
   "outputs": [],
   "source": [
    "results.summary()"
   ]
  },
  {
   "cell_type": "code",
   "execution_count": null,
   "metadata": {},
   "outputs": [],
   "source": [
    "from scipy import stats"
   ]
  },
  {
   "cell_type": "code",
   "execution_count": null,
   "metadata": {},
   "outputs": [],
   "source": [
    "mask = ~np.isnan(df.leaf_potential) & ~np.isnan(df.moistc_oven)"
   ]
  },
  {
   "cell_type": "code",
   "execution_count": null,
   "metadata": {},
   "outputs": [],
   "source": [
    "stats.linregress(df.leaf_potential[mask],df.moistc_oven[mask])"
   ]
  },
  {
   "cell_type": "code",
   "execution_count": null,
   "metadata": {},
   "outputs": [],
   "source": [
    "stats.linregress(df.wind[mask],df.moistc_oven[mask])"
   ]
  },
  {
   "cell_type": "code",
   "execution_count": null,
   "metadata": {},
   "outputs": [],
   "source": [
    "import seaborn as sns"
   ]
  },
  {
   "cell_type": "code",
   "execution_count": null,
   "metadata": {},
   "outputs": [],
   "source": [
    "sns.lmplot('leaf_potential','moistc_oven',data=df)"
   ]
  },
  {
   "cell_type": "code",
   "execution_count": null,
   "metadata": {},
   "outputs": [],
   "source": [
    "df.columns"
   ]
  },
  {
   "cell_type": "code",
   "execution_count": null,
   "metadata": {},
   "outputs": [],
   "source": [
    "results = smf.ols('moistc_oven ~ soil_moisture + vpd + wind + leaf_potential + radiation + rain_24h', data=df).fit()"
   ]
  },
  {
   "cell_type": "code",
   "execution_count": null,
   "metadata": {},
   "outputs": [],
   "source": [
    "results.summary()"
   ]
  },
  {
   "cell_type": "code",
   "execution_count": null,
   "metadata": {},
   "outputs": [],
   "source": []
  }
 ],
 "metadata": {
  "kernelspec": {
   "display_name": "Python 3",
   "language": "python",
   "name": "python3"
  },
  "language_info": {
   "codemirror_mode": {
    "name": "ipython",
    "version": 3
   },
   "file_extension": ".py",
   "mimetype": "text/x-python",
   "name": "python",
   "nbconvert_exporter": "python",
   "pygments_lexer": "ipython3",
   "version": "3.7.6"
  }
 },
 "nbformat": 4,
 "nbformat_minor": 4
}
